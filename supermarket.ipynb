{
  "nbformat": 4,
  "nbformat_minor": 0,
  "metadata": {
    "colab": {
      "name": "supermarket.ipynb",
      "provenance": [],
      "authorship_tag": "ABX9TyNic93w0Qi9I6OeQuhVLjy8",
      "include_colab_link": true
    },
    "kernelspec": {
      "name": "python3",
      "display_name": "Python 3"
    },
    "language_info": {
      "name": "python"
    }
  },
  "cells": [
    {
      "cell_type": "markdown",
      "metadata": {
        "id": "view-in-github",
        "colab_type": "text"
      },
      "source": [
        "<a href=\"https://colab.research.google.com/github/KnightMafiaLau/Python-Project/blob/main/supermarket.ipynb\" target=\"_parent\"><img src=\"https://colab.research.google.com/assets/colab-badge.svg\" alt=\"Open In Colab\"/></a>"
      ]
    },
    {
      "cell_type": "code",
      "execution_count": null,
      "metadata": {
        "id": "U6ca3wk-N3o3"
      },
      "outputs": [],
      "source": [
        "# import the random module\n",
        "# use \"winnings = random.randint(2, 10)\" to generate a random int from 2 - 10 and store in a variable \"winnings\"\n",
        "\n",
        "import random\n",
        "winnings = random.randint(2, 10)\n",
        "# unit price of a lottery ticket\n",
        "constant_lottery_unit_price = 2\n",
        "# unit price of an apple\n",
        "constant_apple_unit_price = .99\n",
        "# unit price of a can of beans\n",
        "constant_canned_beans_unit_price = 1.58\n",
        "# unit price of a soda\n",
        "constant_soda_unit_price = 1.23\n",
        "# the user has initial $5 for shopping\n",
        "money = 5\n",
        "# the user has spent $0 initially\n",
        "money_spent = 0\n",
        "# the amounts of lottery tickets, apples, cans of beans, and sodas the user has purchased\n",
        "lottery_amount, apple_amount, canned_beans_amount, soda_amount = 0, 0, 0, 0"
      ]
    },
    {
      "cell_type": "code",
      "source": [
        "#print the start text\n",
        "print ('Welcome to the supermarket!  Here\\'s what we have in stock: \\n- Lottery tickets cost $2 each \\n- Apples cost $0.99 each \\n- Cans of beans cost $1.58 each \\n- Sodas cost $1.23 each')\n",
        "print ('You have $5 available \\nFirst, do you want to buy a $2 lottery ticket for a chance at winning $2-$10? (y/n)')\n",
        "\n",
        "#get the first input choice\n",
        "choice = input()\n",
        "\n",
        "#lottery when input is y, else skip to next step\n",
        "if choice == 'y' or choice == 'Y' and winnings > 2:\n",
        "  print ('Congrats! You won $', winnings, sep = '')\n",
        "  lottery_amount = 1\n",
        "  money = money - 2 + winnings\n",
        "\n",
        "elif choice == 'y' or choice == 'Y' and winnings == 2:#if the winning = $2\n",
        "  print ('Sorry! You did not win the lottery.')\n",
        "  lottery_amount = 1\n",
        "\n",
        "#current money available\n",
        "print ('\\nYou have $', money, ' available \\nDo you want to buy apple(s)? (y/n)', sep = '')\n",
        "\n",
        "choice = input()\n",
        "\n",
        "if choice == 'y' or choice == 'Y':#if the user would like to buy apple\n",
        "  print ('How many apple(s) do you want to buy?')\n",
        "  apple_amount = input()#get the amount of apples\n",
        "  if not(apple_amount.isdecimal()):#whether the input is a integer\n",
        "    print ('Numerical values only! No apples selected.')\n",
        "    apple_amount = 0#if the input is not integer, then output error info.\n",
        "  else:\n",
        "    apple_amount = int(apple_amount)#if the input is a integer number, change the input type from string to integer\n",
        "\n",
        "\n",
        "elif choice == 'n' or choice == 'N':#if user not want apples\n",
        "  print ('No apples purchased')\n",
        "  apple_amount = 0\n",
        "\n",
        "if apple_amount > 0:\n",
        "  total_apple = round(float(apple_amount) * constant_apple_unit_price, 2)\n",
        "  print ('The user wants to buy ', apple_amount, 'apple(s). This will cost $', total_apple, sep = '')\n",
        "  if total_apple <= money:#if the money is enough\n",
        "    print ('The user has enough money.', apple_amount, 'apple(s) purchased.')\n",
        "    money_spent += total_apple#add the apple cost to the money_spent\n",
        "    money = round(money - total_apple, 2)#minus the money spent\n",
        "\n",
        "  elif total_apple > money:#if the money is not enough\n",
        "    print ('Not enough money! No apples purchased.')\n",
        "\n",
        "elif apple_amount < 0:#if the apple amount inputed is smaller than 0\n",
        "  print ('Amount purchased must bigger than 0!')\n",
        "  apple_amount = 0\n",
        "\n",
        "#current money available\n",
        "print ('\\nYou have $', money, ' available \\nDo you want to buy can(s) of beans? (y/n)', sep = '')\n",
        "\n",
        "choice = input()\n",
        "\n",
        "if choice == 'y' or choice == 'Y':#if the user would like to buy beans\n",
        "  print ('How many can(s) of beans do you want to buy?')\n",
        "  canned_beans_amount = input()#get the amount of beans\n",
        "  if not( canned_beans_amount.isdecimal()):#whether the input is a integer\n",
        "    print ('Numerical values only! No cans of beans selected.')\n",
        "    canned_beans_amount = 0#if the input is not integer, then output error info.\n",
        "  else:\n",
        "    canned_beans_amount = int( canned_beans_amount)#if the input is a integer number, change the input type from string to integer\n",
        "\n",
        "\n",
        "elif choice == 'n' or choice == 'N':#if user not want beans\n",
        "  print ('No beans purchased')\n",
        "  beans = 0\n",
        "\n",
        "if  canned_beans_amount > 0:\n",
        "  total_beans = round(float( canned_beans_amount) * constant_canned_beans_unit_price, 2)\n",
        "  print ('The user wants to buy',  canned_beans_amount, ' can(s) of beans. This will cost $', total_beans, sep = '')\n",
        "  if total_beans <= money:#if the money is enough\n",
        "    print ('The user has enough money.',  canned_beans_amount, 'can(s) of beans purchased.')\n",
        "    money_spent += total_beans#add the bean cost to the money_spent\n",
        "    money = round(money - total_beans, 2)#minus the money spent\n",
        "\n",
        "  elif total_beans > money:#if the money is not enough\n",
        "    print ('Not enough money! No cans of beans purchased.')\n",
        "\n",
        "elif  canned_beans_amount < 0:#if the apple amount inputed is smaller than 0\n",
        "  print ('Amount purchased must bigger than 0!')\n",
        "  canned_beans_amount = 0\n",
        "\n",
        "  #current money available\n",
        "print ('\\nYou have $', money, ' available \\nDo you want to buy soda(s)? (y/n)', sep = '')\n",
        "\n",
        "choice = input()\n",
        "\n",
        "if choice == 'y' or choice == 'Y':#if the user would like to buy soda\n",
        "  print ('How many soda do you want to buy?')\n",
        "  soda_amount = input()#get the amount of soda\n",
        "  if not(soda_amount.isdecimal()):#whether the input is a integer\n",
        "    print ('Numerical values only! No sodas selected.')\n",
        "    soda_amount = 0#if the input is not integer, then output error info.\n",
        "  else:\n",
        "    soda_amount = int(soda_amount)#if the input is a integer number, change the input type from string to integer\n",
        "\n",
        "\n",
        "elif choice == 'n' or choice == 'N':#if user not want sodas\n",
        "  print ('No sodas purchased')\n",
        "  soda_amount = 0\n",
        "\n",
        "if  soda_amount > 0:\n",
        "  total_soda = round(float(soda_amount) * constant_canned_beans_unit_price, 2)\n",
        "  print ('The user wants to buy ',  soda_amount, ' can(s) of beans. This will cost $', total_soda, sep = '')\n",
        "  if total_soda <= money:#if the money is enough\n",
        "    print ('The user has enough money.', soda_amount, 'sodas purchased.')\n",
        "    money_spent += total_soda#add the soda cost to the money_spent\n",
        "    money = round (money - total_soda, 2)#minus the money spent\n",
        "\n",
        "  elif total_soda > money:#if the money is not enough\n",
        "    print ('Not enough money! No sodas purchased.')\n",
        "\n",
        "elif soda_amount < 0:#if the apple amount inputed is smaller than 0\n",
        "  print ('Amount purchased must bigger than 0!')\n",
        "  soda_amount = 0\n",
        "\n",
        "print ('\\nMoney left: $',money)\n",
        "print ('Lottery tickets purchased:', lottery_amount)\n",
        "print ('Lottery winnings: $', winnings)\n",
        "print ('Apple(s) purchased: ', apple_amount)\n",
        "print ('Can(s) of beans purchased: ', canned_beans_amount)\n",
        "print ('Soda(s) purchased: ', soda_amount)\n",
        "print ('Good bye!')\n",
        "\n"
      ],
      "metadata": {
        "colab": {
          "base_uri": "https://localhost:8080/"
        },
        "id": "glES-gyoOj2T",
        "outputId": "8d5bc715-e7bd-4aee-f607-4672758a3a5a"
      },
      "execution_count": null,
      "outputs": [
        {
          "output_type": "stream",
          "name": "stdout",
          "text": [
            "Welcome to the supermarket!  Here's what we have in stock: \n",
            "- Lottery tickets cost $2 each \n",
            "- Apples cost $0.99 each \n",
            "- Cans of beans cost $1.58 each \n",
            "- Sodas cost $1.23 each\n",
            "You have $5 available \n",
            "First, do you want to buy a $2 lottery ticket for a chance at winning $2-$10? (y/n)\n",
            "y\n",
            "Congrats! You won $8\n",
            "\n",
            "You have $11 available \n",
            "Do you want to buy apple(s)? (y/n)\n",
            "y\n",
            "How many apple(s) do you want to buy?\n",
            "10\n",
            "The user wants to buy 10apple(s). This will cost $9.9\n",
            "The user has enough money. 10 apple(s) purchased.\n",
            "\n",
            "You have $1.1 available \n",
            "Do you want to buy can(s) of beans? (y/n)\n",
            "y\n",
            "How many can(s) of beans do you want to buy?\n",
            "3\n",
            "The user wants to buy3 can(s) of beans. This will cost $4.74\n",
            "Not enough money! No cans of beans purchased.\n",
            "\n",
            "You have $1.1 available \n",
            "Do you want to buy soda(s)? (y/n)\n",
            "n\n",
            "No sodas purchased\n",
            "\n",
            "Money left: $ 1.1\n",
            "Lottery tickets purchased: 1\n",
            "Lottery winnings: $ 8\n",
            "Apple(s) purchased:  10\n",
            "Can(s) of beans purchased:  3\n",
            "Soda(s) purchased:  0\n",
            "Good bye!\n"
          ]
        }
      ]
    },
    {
      "cell_type": "code",
      "source": [
        ""
      ],
      "metadata": {
        "id": "X9uc35jkyODc"
      },
      "execution_count": null,
      "outputs": []
    },
    {
      "cell_type": "code",
      "source": [
        ""
      ],
      "metadata": {
        "id": "qwg2z0uiyIyk"
      },
      "execution_count": null,
      "outputs": []
    },
    {
      "cell_type": "code",
      "source": [
        ""
      ],
      "metadata": {
        "id": "O9QwdPJzyFzk"
      },
      "execution_count": null,
      "outputs": []
    },
    {
      "cell_type": "code",
      "source": [
        ""
      ],
      "metadata": {
        "id": "teGMpVGdx0qN"
      },
      "execution_count": null,
      "outputs": []
    },
    {
      "cell_type": "code",
      "source": [
        ""
      ],
      "metadata": {
        "id": "V5atLk7qxhlX"
      },
      "execution_count": null,
      "outputs": []
    },
    {
      "cell_type": "code",
      "source": [
        ""
      ],
      "metadata": {
        "id": "P9jLOLX7SXh6"
      },
      "execution_count": null,
      "outputs": []
    },
    {
      "cell_type": "code",
      "source": [
        ""
      ],
      "metadata": {
        "id": "3N3TM0kYSSY6"
      },
      "execution_count": null,
      "outputs": []
    },
    {
      "cell_type": "code",
      "source": [
        ""
      ],
      "metadata": {
        "id": "FrAClfCESQEa"
      },
      "execution_count": null,
      "outputs": []
    },
    {
      "cell_type": "code",
      "source": [
        ""
      ],
      "metadata": {
        "id": "eBfQxeeXSFUj"
      },
      "execution_count": null,
      "outputs": []
    }
  ]
}